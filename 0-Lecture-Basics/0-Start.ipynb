{
 "cells": [
  {
   "cell_type": "markdown",
   "id": "reverse-fifth",
   "metadata": {},
   "source": [
    "# базовые элементы языка Python"
   ]
  },
  {
   "cell_type": "markdown",
   "id": "theoretical-romania",
   "metadata": {},
   "source": [
    "### Отступы\n",
    "- Блоки кода определяются отступами (индентацией).\n",
    "- Для отступов используются пробельные символы (допустимы пробел и табуляция).\n",
    "- Уровни вложенности - по количеству отступов (группа пробелов или символ табуляции)."
   ]
  },
  {
   "cell_type": "code",
   "execution_count": null,
   "id": "based-corpus",
   "metadata": {},
   "outputs": [],
   "source": [
    "a = 1\n",
    "\n",
    "if a == 1:\n",
    "    print(\"A is one\")\n",
    "\n",
    "    if a - 1 == 0:\n",
    "        print(\"A minus one is zero\")"
   ]
  },
  {
   "cell_type": "markdown",
   "id": "contemporary-flush",
   "metadata": {},
   "source": [
    "Как лучше оформлять код:\n",
    "\n",
    "- Возможно использовать пробелы или табуляцию.\n",
    "- Но никогда не смешивать - будут проблемы.\n",
    "- Общепринято использовать отступ в 4 пробела на уровень и мы будем придерживаться такого соглашения."
   ]
  },
  {
   "cell_type": "markdown",
   "id": "directed-gospel",
   "metadata": {},
   "source": [
    "### Ссылочная семантика языка (reference symantics)\n",
    "- В Python переменная - просто имя для некоторого значения, которое является носителем типа.\n",
    "- По сути, имена переменных задают ссылки.\n",
    "- Аргументы в функцию тажке передаются \"по-ссылке\" - нужно это учитывать при работе (делать явно копию, если нужно и т.д.).\n",
    "- В случае с числами ссылочная семантика тажке работает, но т.к. они представляют собой \"неизменяемые\" значения, то при изменении просто вернётся другое значение, а базовое не поменяется."
   ]
  },
  {
   "cell_type": "code",
   "execution_count": 3,
   "id": "agreed-sperm",
   "metadata": {},
   "outputs": [],
   "source": [
    "a = 1\n",
    "a = []\n",
    "b = a"
   ]
  },
  {
   "cell_type": "code",
   "execution_count": 4,
   "id": "stunning-locking",
   "metadata": {},
   "outputs": [
    {
     "data": {
      "text/plain": [
       "[1, 2, 3]"
      ]
     },
     "execution_count": 4,
     "metadata": {},
     "output_type": "execute_result"
    }
   ],
   "source": [
    "a = [ 1, 2, 3]\n",
    "a"
   ]
  },
  {
   "cell_type": "code",
   "execution_count": 5,
   "id": "through-heater",
   "metadata": {},
   "outputs": [],
   "source": [
    "a.append(a)"
   ]
  },
  {
   "cell_type": "code",
   "execution_count": 6,
   "id": "academic-johnston",
   "metadata": {},
   "outputs": [
    {
     "data": {
      "text/plain": [
       "[1, 2, 3, [...]]"
      ]
     },
     "execution_count": 6,
     "metadata": {},
     "output_type": "execute_result"
    }
   ],
   "source": [
    "a"
   ]
  },
  {
   "cell_type": "code",
   "execution_count": null,
   "id": "later-assumption",
   "metadata": {},
   "outputs": [],
   "source": []
  },
  {
   "cell_type": "code",
   "execution_count": null,
   "id": "romance-certificate",
   "metadata": {},
   "outputs": [],
   "source": [
    "b"
   ]
  },
  {
   "cell_type": "code",
   "execution_count": null,
   "id": "standing-outline",
   "metadata": {},
   "outputs": [],
   "source": [
    "a.append(1)\n",
    "b"
   ]
  },
  {
   "cell_type": "markdown",
   "id": "continuing-possibility",
   "metadata": {},
   "source": [
    "### Объектная система\n",
    "Всё является объектом (everyting is an object):\n",
    "\n",
    "- функции\n",
    "- классы\n",
    "- метаклассы (классы для классов :) )\n",
    "- типы\n",
    "- модули\n",
    "- значения встроенные типов\n",
    "\n",
    "\n",
    "Это даёт широкие возможности для использовани различных парадигм и подходов, а также позволяет широко использовать интроспекцию."
   ]
  },
  {
   "cell_type": "markdown",
   "id": "verified-coral",
   "metadata": {},
   "source": [
    "### Полезные встроенные функции интроспекции\n",
    "- help(obj) - получить справку по любому объекту.\n",
    "- dir(obj) - получить список полей объекта.\n",
    "- type(obj) - узнать тип объекта.\n",
    "- str(obj) - преобразовать объект в строку."
   ]
  },
  {
   "cell_type": "markdown",
   "id": "resident-arrangement",
   "metadata": {},
   "source": [
    "# Базовые типы\n"
   ]
  },
  {
   "cell_type": "markdown",
   "id": "discrete-vegetarian",
   "metadata": {},
   "source": [
    "## числа"
   ]
  },
  {
   "cell_type": "code",
   "execution_count": 7,
   "id": "little-diving",
   "metadata": {},
   "outputs": [
    {
     "name": "stdout",
     "output_type": "stream",
     "text": [
      "42\n",
      "<class 'int'>\n"
     ]
    }
   ],
   "source": [
    "print(42)\n",
    "print(type(42))"
   ]
  },
  {
   "cell_type": "code",
   "execution_count": 8,
   "id": "unique-chassis",
   "metadata": {},
   "outputs": [
    {
     "name": "stdout",
     "output_type": "stream",
     "text": [
      "0.42\n",
      "<class 'float'>\n"
     ]
    }
   ],
   "source": [
    "print(42 / 100)\n",
    "print(type(42 / 1000))"
   ]
  },
  {
   "cell_type": "markdown",
   "id": "amended-wyoming",
   "metadata": {},
   "source": [
    "## Логический тип¶\n"
   ]
  },
  {
   "cell_type": "code",
   "execution_count": 9,
   "id": "toxic-table",
   "metadata": {},
   "outputs": [
    {
     "name": "stdout",
     "output_type": "stream",
     "text": [
      "True\n",
      "False\n"
     ]
    }
   ],
   "source": [
    "print(True or False)\n",
    "print(True and False)"
   ]
  },
  {
   "cell_type": "markdown",
   "id": "meaningful-collect",
   "metadata": {},
   "source": [
    "## Тип для пустоты\n",
    "- None\n",
    "- Аналог типа null из других областей.\n",
    "- Сравнивать на равенство None надо с помощью оператора is.\n",
    "- Через == возможно, но считается плохим стилем."
   ]
  },
  {
   "cell_type": "code",
   "execution_count": null,
   "id": "complex-balance",
   "metadata": {},
   "outputs": [],
   "source": [
    "# None\n",
    "print(type(None), None)\n",
    "a = None\n",
    "print(a is None) # comparison of singletons"
   ]
  },
  {
   "cell_type": "markdown",
   "id": "acknowledged-argument",
   "metadata": {},
   "source": [
    "# Коллекции\n",
    "- Коллекция - объект, основным предназначением которого является хранение объектов и предоставление к ним доступа.\n",
    "- Основные виды коллекций: последовательности (sequences) и отображения (mappings).\n",
    "\n",
    "\n",
    "\n",
    "Последовательности\n",
    "Примеры встроенных типов:\n",
    "\n",
    "- list()\n",
    "- tuple()\n",
    "- range() [3.x]\n",
    "- str()\n",
    "- bytes() [3.x]\n",
    "- bytearray() [3.x]\n",
    "\n",
    "\n",
    "Свойства:\n",
    "\n",
    "- Имеют последовательную индексацию в промежутке [0, length - 1].\n",
    "- Могут содержать одновременно объекты различных типов.\n",
    "- Строки, байты и массивы байт - исключение, в них только символы (строки длины 1).\n",
    "- tuple(), range(), str() и bytes() неизменяемые - immutable. [3.x]\n",
    "- range() - особый итерируемый тип. [3.x]\n",
    "- Можно создавать пользовательские коллекции-последовательности.\n",
    "- Многие коллекции поддерживают умножение на число.\n",
    "- Встроенная функция zip(..) для объединения перечисляемых последовательностей.\n",
    "- Далее рассмотрим примеры использования последовательностей.\n",
    "\n",
    "## range - итерируемый помежуток значений [3.x]\n",
    "- Особый тип, представляет собой промежуток значений.\n",
    "- Часто используется для итерации в цикле for.\n",
    "- Также при необходимости можно просто преобразовать в другие типы.\n",
    "\n",
    "\n",
    "## Список (list) - динамический массив\n",
    "- Не смотря на название, представляет собой именно динамический массив.\n",
    "- Литерал для списка - [].\n",
    "- Индексация через [].\n",
    "- Механизм срезов [:] и [::]."
   ]
  },
  {
   "cell_type": "code",
   "execution_count": 10,
   "id": "ecological-oklahoma",
   "metadata": {},
   "outputs": [],
   "source": [
    "a = [1, 2, 3, 4]"
   ]
  },
  {
   "cell_type": "code",
   "execution_count": 14,
   "id": "coastal-equation",
   "metadata": {},
   "outputs": [
    {
     "data": {
      "text/plain": [
       "[2, 3, 4]"
      ]
     },
     "execution_count": 14,
     "metadata": {},
     "output_type": "execute_result"
    }
   ],
   "source": [
    "a[1:]"
   ]
  },
  {
   "cell_type": "code",
   "execution_count": null,
   "id": "offshore-affairs",
   "metadata": {},
   "outputs": [],
   "source": [
    "print([])\n",
    "print([1])\n",
    "print([1, 2, 3, \"four\", [5, 6]])"
   ]
  },
  {
   "cell_type": "code",
   "execution_count": 16,
   "id": "parliamentary-penalty",
   "metadata": {},
   "outputs": [
    {
     "data": {
      "text/plain": [
       "[5, 6, 7, 8, 9]"
      ]
     },
     "execution_count": 16,
     "metadata": {},
     "output_type": "execute_result"
    }
   ],
   "source": [
    "list(range(5, 10))"
   ]
  },
  {
   "cell_type": "code",
   "execution_count": null,
   "id": "bigger-utilization",
   "metadata": {},
   "outputs": [],
   "source": [
    "print(range(10), \"->\", list(range(10)))\n",
    "print(range(5, 10), \"->\", list(range(5, 10)))\n",
    "print(range(1, 10, 2), \"->\", list(range(1, 10, 2)))\n",
    "print(range(10, 1, -1), \"->\", list(range(10, 1, -1)))"
   ]
  },
  {
   "cell_type": "code",
   "execution_count": null,
   "id": "indonesian-banana",
   "metadata": {},
   "outputs": [],
   "source": [
    "# length\n",
    "arr = list(range(10))\n",
    "print(arr)\n",
    "print(len(arr))"
   ]
  },
  {
   "cell_type": "code",
   "execution_count": null,
   "id": "objective-primary",
   "metadata": {},
   "outputs": [],
   "source": [
    "# indexing\n",
    "arr = list(range(10))\n",
    "print(arr)\n",
    "print(arr[0])\n",
    "print(arr[3])\n",
    "print(arr[-1])\n",
    "print(arr[-3])"
   ]
  },
  {
   "cell_type": "code",
   "execution_count": null,
   "id": "solar-professor",
   "metadata": {},
   "outputs": [],
   "source": [
    "# slicing part one\n",
    "arr = list(range(10))\n",
    "print(arr)\n",
    "print(arr[:5])\n",
    "print(arr[5:])\n",
    "print(arr[5:8])"
   ]
  },
  {
   "cell_type": "code",
   "execution_count": 17,
   "id": "occupied-population",
   "metadata": {},
   "outputs": [
    {
     "name": "stdout",
     "output_type": "stream",
     "text": [
      "1\n",
      "2\n",
      "three\n",
      "[]\n"
     ]
    }
   ],
   "source": [
    "# iteration\n",
    "for elem in :\n",
    "    print(elem)"
   ]
  },
  {
   "cell_type": "code",
   "execution_count": 19,
   "id": "portable-raleigh",
   "metadata": {},
   "outputs": [
    {
     "name": "stdout",
     "output_type": "stream",
     "text": [
      "0 1\n",
      "1 2\n",
      "2 three\n",
      "3 []\n"
     ]
    }
   ],
   "source": [
    "array = [1, 2, \"three\", []]\n",
    "\n",
    "for i in range(len(array)):\n",
    "    print(i, array[i])"
   ]
  },
  {
   "cell_type": "code",
   "execution_count": null,
   "id": "neither-purchase",
   "metadata": {},
   "outputs": [],
   "source": []
  },
  {
   "cell_type": "code",
   "execution_count": null,
   "id": "simple-british",
   "metadata": {},
   "outputs": [],
   "source": [
    "# adding elements\n",
    "arr = list(range(10))\n",
    "print(arr)\n",
    "\n",
    "arr.append(\"ten\")\n",
    "print(arr)\n",
    "\n",
    "arr.extend([11, 12])\n",
    "print(arr)\n",
    "\n",
    "arr.insert(10, \"before ten\")\n",
    "print(arr)\n",
    "\n",
    "print(arr + list(range(100, 105)))\n",
    "\n",
    "arr += [13, 14]\n",
    "print(arr)"
   ]
  },
  {
   "cell_type": "code",
   "execution_count": null,
   "id": "legitimate-benchmark",
   "metadata": {},
   "outputs": [],
   "source": [
    "# multiplication\n",
    "print([1, 2, 3] * 3)"
   ]
  },
  {
   "cell_type": "markdown",
   "id": "lined-witness",
   "metadata": {},
   "source": [
    "# Кортеж (tuple) - неизменяемый массив\n",
    "- Как list(), только нельзя изменять.\n",
    "- Используется там, где нужно свойство неизменяемости.\n",
    "- Также можно использовать, чтобы явно указывать на то, что определённый набор данных задумывался неизменяемым.\n",
    "- С помощью этого типа неявно выполняется операция параллельного присваивания."
   ]
  },
  {
   "cell_type": "code",
   "execution_count": 21,
   "id": "weekly-cause",
   "metadata": {},
   "outputs": [
    {
     "name": "stdout",
     "output_type": "stream",
     "text": [
      "(1, 2)\n",
      "(1, 2, 3)\n",
      "4 5\n"
     ]
    }
   ],
   "source": [
    "# работает чуть быстрее чем list\n",
    "\n",
    "print( (1, 2) )\n",
    "print(tuple([1, 2, 3]))\n",
    "a, b = 4, 5\n",
    "print( a, b )"
   ]
  },
  {
   "cell_type": "code",
   "execution_count": null,
   "id": "timely-monitor",
   "metadata": {},
   "outputs": [],
   "source": [
    "return a, b"
   ]
  },
  {
   "cell_type": "code",
   "execution_count": null,
   "id": "flying-benjamin",
   "metadata": {},
   "outputs": [],
   "source": []
  },
  {
   "cell_type": "markdown",
   "id": "fancy-bridges",
   "metadata": {},
   "source": [
    "# Отображения (mappings)\n",
    "- Словари отображающие множество неизменяемых ключей на соответствующие значения.\n",
    "- Встроенный тип: dict()\n",
    "\n",
    "\n",
    "Свойства:\n",
    "\n",
    "- Ключи должны быть неизменяемые (внутри используется hash).\n",
    "- Ключи могут быть различных типов.\n",
    "- Упорядоченность элементов dict() не гарантируется (порядок может быть произвольным).\n",
    "- Значения могут быть различных типов.\n",
    "- Широко используются внутри языка: имя переменной и её значение, поля объекта и их значения."
   ]
  },
  {
   "cell_type": "code",
   "execution_count": 22,
   "id": "southern-vision",
   "metadata": {},
   "outputs": [
    {
     "name": "stdout",
     "output_type": "stream",
     "text": [
      "{'a': 1, 'b': 2}\n",
      "{}\n",
      "{}\n",
      "{'a': 1, 'b': 2}\n"
     ]
    }
   ],
   "source": [
    "# dict literal\n",
    "counters = { \"a\": 1, \"b\": 2}\n",
    "print(counters)\n",
    "\n",
    "# dict()\n",
    "print({})\n",
    "print(dict())\n",
    "\n",
    "# from pairs\n",
    "key_values = [(\"a\", 1), (\"b\", 2)]\n",
    "print(dict(key_values))"
   ]
  },
  {
   "cell_type": "code",
   "execution_count": 23,
   "id": "cooked-circular",
   "metadata": {},
   "outputs": [
    {
     "data": {
      "text/plain": [
       "{'a': 1, 'b': 2}"
      ]
     },
     "execution_count": 23,
     "metadata": {},
     "output_type": "execute_result"
    }
   ],
   "source": [
    "counters"
   ]
  },
  {
   "cell_type": "code",
   "execution_count": 24,
   "id": "choice-preparation",
   "metadata": {},
   "outputs": [
    {
     "data": {
      "text/plain": [
       "dict_keys(['a', 'b'])"
      ]
     },
     "execution_count": 24,
     "metadata": {},
     "output_type": "execute_result"
    }
   ],
   "source": [
    "counters.keys()"
   ]
  },
  {
   "cell_type": "code",
   "execution_count": 25,
   "id": "abroad-radius",
   "metadata": {},
   "outputs": [
    {
     "data": {
      "text/plain": [
       "dict_values([1, 2])"
      ]
     },
     "execution_count": 25,
     "metadata": {},
     "output_type": "execute_result"
    }
   ],
   "source": [
    "counters.values()"
   ]
  },
  {
   "cell_type": "code",
   "execution_count": 27,
   "id": "aggregate-auditor",
   "metadata": {},
   "outputs": [
    {
     "name": "stdout",
     "output_type": "stream",
     "text": [
      "a 1\n",
      "b 2\n"
     ]
    }
   ],
   "source": [
    "for k, v in counters.items():\n",
    "    print(k, v)"
   ]
  },
  {
   "cell_type": "code",
   "execution_count": null,
   "id": "charged-router",
   "metadata": {},
   "outputs": [],
   "source": []
  },
  {
   "cell_type": "code",
   "execution_count": null,
   "id": "little-malta",
   "metadata": {},
   "outputs": [],
   "source": []
  },
  {
   "cell_type": "code",
   "execution_count": null,
   "id": "extra-realtor",
   "metadata": {},
   "outputs": [],
   "source": [
    "# lookup element\n",
    "counters = {\"a\": 1, \"b\": 2}\n",
    "print(counters[\"a\"])\n",
    "print(\"a\" in counters)\n",
    "print(counters.get(\"a\", 0))"
   ]
  },
  {
   "cell_type": "code",
   "execution_count": null,
   "id": "innovative-basic",
   "metadata": {},
   "outputs": [],
   "source": [
    "# lookup error\n",
    "counters = {\"a\": 1, \"b\": 2}\n",
    "counters[\"c\"]"
   ]
  },
  {
   "cell_type": "code",
   "execution_count": null,
   "id": "revolutionary-brook",
   "metadata": {},
   "outputs": [],
   "source": [
    "counters = {\"a\": 1, \"b\": 2}\n",
    "print(counters.get(\"c\", None) is None)"
   ]
  },
  {
   "cell_type": "code",
   "execution_count": null,
   "id": "future-private",
   "metadata": {},
   "outputs": [],
   "source": [
    "# add element\n",
    "counters = {\"a\": 1, \"b\": 2}\n",
    "counters[\"c\"] = 3\n",
    "print(counters)"
   ]
  },
  {
   "cell_type": "code",
   "execution_count": null,
   "id": "blocked-baseline",
   "metadata": {},
   "outputs": [],
   "source": [
    "counters = {\"a\": 1, \"b\": 2}\n",
    "\n",
    "for key in counters:\n",
    "    print(key, counters[key])\n",
    "\n",
    "# keys, values and items as iterables [3.x]\n",
    "print(counters.keys())\n",
    "print(counters.values())\n",
    "print(counters.items())\n",
    "\n",
    "for key in counters.keys():\n",
    "    print(key)\n",
    "\n",
    "for value in counters.values():\n",
    "    print(value)\n",
    "\n",
    "for key, value in counters.items():\n",
    "    print(key, value)"
   ]
  },
  {
   "cell_type": "markdown",
   "id": "chief-heading",
   "metadata": {},
   "source": [
    "# Операторы\n",
    "\n",
    "\n",
    "# Арифметические\n",
    "- +, -, *, % - как обычно (в C/C++).\n",
    "- / - дробное деление, в результате float. [3.x]\n",
    "- // - целочисленное деление, в результате int. [3.x]\n",
    "- ** - возведение в степень\n",
    "\n",
    "\n",
    "# Сравнение\n",
    "- ==, <, <=, >, >= - как обычно\n",
    "- a < b < c - составное сравнение.\n",
    "- Составное сравнение вычисляется лениво и могут не все выражения вычислиться.\n",
    "- Результат bool().\n",
    "- Исключение TypeError в случае сравнения несравнимых (число и строка, и т.п.) [3.x]\n",
    "\n",
    "\n",
    "# Логические\n",
    "- and - логическое и\n",
    "- or - логическое или\n",
    "- not - унарное отрицание\n",
    "- Результат and и or не обязательно bool() и на вход не обязательно bool() - подробности ниже.\n",
    "- Все пустые значения приводятся к False (\"\", 0, None, 0.0, [], and {}), непустые - к True.\n",
    "- Помнить и понимать, что and и or вычисляются лениво."
   ]
  },
  {
   "cell_type": "code",
   "execution_count": null,
   "id": "furnished-acting",
   "metadata": {},
   "outputs": [],
   "source": [
    "# conditions\n",
    "a = 3\n",
    "if a > 2:\n",
    "    print(\"a > 2\")\n",
    "\n",
    "if a > 3:\n",
    "    print(\"a > 3\")\n",
    "elif a < 1:\n",
    "    print(\"a < 1\")\n",
    "else:\n",
    "    print(\"1 <= a <= 3\")\n",
    "\n",
    "s = \"abcdefgh\"\n",
    "is_looks_like_alphabet = s.startswith(\"abc\") or s.endswith(\"xyz\")\n",
    "if is_looks_like_alphabet:\n",
    "    print(\"Hmm, is it an alphabet?\")"
   ]
  },
  {
   "cell_type": "markdown",
   "id": "permanent-somerset",
   "metadata": {},
   "source": [
    "# Циклы\n",
    "- while condition: - обычный цикл while\n",
    "- for elem in iterable: - цикл for как итерирование\n",
    "- есть continue и break\n",
    "- range([start,] stop[, step]) - для задания iterable промежутка."
   ]
  },
  {
   "cell_type": "code",
   "execution_count": null,
   "id": "hazardous-million",
   "metadata": {},
   "outputs": [],
   "source": [
    "# loops\n",
    "\n",
    "counter = 0\n",
    "while counter < 10:\n",
    "    counter += 2\n",
    "    print(counter)"
   ]
  },
  {
   "cell_type": "code",
   "execution_count": null,
   "id": "steady-equality",
   "metadata": {},
   "outputs": [],
   "source": [
    "numbers = [1, 2, 100500]\n",
    "\n",
    "for number in numbers:\n",
    "    print(number)"
   ]
  },
  {
   "cell_type": "code",
   "execution_count": null,
   "id": "knowing-particle",
   "metadata": {},
   "outputs": [],
   "source": [
    "for elem in range(10):\n",
    "    print(elem)"
   ]
  },
  {
   "cell_type": "code",
   "execution_count": null,
   "id": "attempted-impossible",
   "metadata": {},
   "outputs": [],
   "source": []
  },
  {
   "cell_type": "code",
   "execution_count": null,
   "id": "medical-fitting",
   "metadata": {},
   "outputs": [],
   "source": []
  },
  {
   "cell_type": "code",
   "execution_count": 38,
   "id": "thick-heather",
   "metadata": {},
   "outputs": [],
   "source": [
    "def func(a: int, b: float):\n",
    "    print('Hello world')\n",
    "        \n",
    "    \n"
   ]
  },
  {
   "cell_type": "code",
   "execution_count": 40,
   "id": "fresh-breast",
   "metadata": {},
   "outputs": [
    {
     "name": "stdout",
     "output_type": "stream",
     "text": [
      "Hello world\n"
     ]
    }
   ],
   "source": [
    "result = func(1, 2.2)"
   ]
  },
  {
   "cell_type": "code",
   "execution_count": 42,
   "id": "indie-scanning",
   "metadata": {},
   "outputs": [
    {
     "data": {
      "text/plain": [
       "True"
      ]
     },
     "execution_count": 42,
     "metadata": {},
     "output_type": "execute_result"
    }
   ],
   "source": [
    "result is None"
   ]
  },
  {
   "cell_type": "code",
   "execution_count": null,
   "id": "victorian-drink",
   "metadata": {},
   "outputs": [],
   "source": []
  },
  {
   "cell_type": "code",
   "execution_count": 35,
   "id": "unlikely-lexington",
   "metadata": {},
   "outputs": [
    {
     "ename": "TypeError",
     "evalue": "'>' not supported between instances of 'int' and 'str'",
     "output_type": "error",
     "traceback": [
      "\u001b[0;31m---------------------------------------------------------------------------\u001b[0m",
      "\u001b[0;31mTypeError\u001b[0m                                 Traceback (most recent call last)",
      "\u001b[0;32m<ipython-input-35-6f72cd44c28a>\u001b[0m in \u001b[0;36m<module>\u001b[0;34m\u001b[0m\n\u001b[0;32m----> 1\u001b[0;31m \u001b[0mfunc\u001b[0m\u001b[0;34m(\u001b[0m\u001b[0;36m1\u001b[0m\u001b[0;34m,\u001b[0m \u001b[0;34m'asdfasf'\u001b[0m\u001b[0;34m)\u001b[0m\u001b[0;34m\u001b[0m\u001b[0;34m\u001b[0m\u001b[0m\n\u001b[0m",
      "\u001b[0;32m<ipython-input-33-a11ebbfd86af>\u001b[0m in \u001b[0;36mfunc\u001b[0;34m(a, b)\u001b[0m\n\u001b[1;32m      1\u001b[0m \u001b[0;32mdef\u001b[0m \u001b[0mfunc\u001b[0m\u001b[0;34m(\u001b[0m\u001b[0ma\u001b[0m\u001b[0;34m:\u001b[0m \u001b[0mint\u001b[0m\u001b[0;34m,\u001b[0m \u001b[0mb\u001b[0m\u001b[0;34m:\u001b[0m \u001b[0mfloat\u001b[0m\u001b[0;34m)\u001b[0m \u001b[0;34m->\u001b[0m \u001b[0;32mNone\u001b[0m\u001b[0;34m:\u001b[0m\u001b[0;34m\u001b[0m\u001b[0;34m\u001b[0m\u001b[0m\n\u001b[0;32m----> 2\u001b[0;31m     \u001b[0;32mif\u001b[0m \u001b[0ma\u001b[0m \u001b[0;34m>\u001b[0m \u001b[0mb\u001b[0m\u001b[0;34m:\u001b[0m\u001b[0;34m\u001b[0m\u001b[0;34m\u001b[0m\u001b[0m\n\u001b[0m\u001b[1;32m      3\u001b[0m         \u001b[0;32mreturn\u001b[0m \u001b[0;36m1\u001b[0m\u001b[0;34m\u001b[0m\u001b[0;34m\u001b[0m\u001b[0m\n\u001b[1;32m      4\u001b[0m     \u001b[0;32melse\u001b[0m\u001b[0;34m:\u001b[0m\u001b[0;34m\u001b[0m\u001b[0;34m\u001b[0m\u001b[0m\n\u001b[1;32m      5\u001b[0m         \u001b[0;32mreturn\u001b[0m \u001b[0mb\u001b[0m\u001b[0;34m\u001b[0m\u001b[0;34m\u001b[0m\u001b[0m\n",
      "\u001b[0;31mTypeError\u001b[0m: '>' not supported between instances of 'int' and 'str'"
     ]
    }
   ],
   "source": [
    "func(1, 'asdfasf')"
   ]
  },
  {
   "cell_type": "code",
   "execution_count": null,
   "id": "reduced-helping",
   "metadata": {},
   "outputs": [],
   "source": []
  },
  {
   "cell_type": "code",
   "execution_count": 43,
   "id": "broadband-bangladesh",
   "metadata": {},
   "outputs": [],
   "source": [
    "array = [1,2]"
   ]
  },
  {
   "cell_type": "code",
   "execution_count": 47,
   "id": "seventh-given",
   "metadata": {},
   "outputs": [
    {
     "data": {
      "text/plain": [
       "[1, 2]"
      ]
     },
     "execution_count": 47,
     "metadata": {},
     "output_type": "execute_result"
    }
   ],
   "source": [
    "array"
   ]
  },
  {
   "cell_type": "code",
   "execution_count": 46,
   "id": "corresponding-plumbing",
   "metadata": {},
   "outputs": [
    {
     "name": "stdout",
     "output_type": "stream",
     "text": [
      "1 2\n"
     ]
    }
   ],
   "source": [
    "print( *array)"
   ]
  },
  {
   "cell_type": "code",
   "execution_count": 49,
   "id": "external-bench",
   "metadata": {},
   "outputs": [
    {
     "data": {
      "text/plain": [
       "{1: '1', 2: '2'}"
      ]
     },
     "execution_count": 49,
     "metadata": {},
     "output_type": "execute_result"
    }
   ],
   "source": [
    "dictionary = {\n",
    "    1: '1',\n",
    "    2: '2'\n",
    "}\n",
    "dictionary"
   ]
  },
  {
   "cell_type": "code",
   "execution_count": 51,
   "id": "certified-constraint",
   "metadata": {},
   "outputs": [
    {
     "ename": "TypeError",
     "evalue": "keywords must be strings",
     "output_type": "error",
     "traceback": [
      "\u001b[0;31m---------------------------------------------------------------------------\u001b[0m",
      "\u001b[0;31mTypeError\u001b[0m                                 Traceback (most recent call last)",
      "\u001b[0;32m<ipython-input-51-ecac17899a23>\u001b[0m in \u001b[0;36m<module>\u001b[0;34m\u001b[0m\n\u001b[0;32m----> 1\u001b[0;31m \u001b[0mprint\u001b[0m\u001b[0;34m(\u001b[0m\u001b[0;34m**\u001b[0m\u001b[0mdictionary\u001b[0m\u001b[0;34m)\u001b[0m\u001b[0;34m\u001b[0m\u001b[0;34m\u001b[0m\u001b[0m\n\u001b[0m",
      "\u001b[0;31mTypeError\u001b[0m: keywords must be strings"
     ]
    }
   ],
   "source": [
    "print(**dictionary)"
   ]
  },
  {
   "cell_type": "code",
   "execution_count": null,
   "id": "complimentary-gates",
   "metadata": {},
   "outputs": [],
   "source": []
  },
  {
   "cell_type": "code",
   "execution_count": null,
   "id": "athletic-convergence",
   "metadata": {},
   "outputs": [],
   "source": []
  },
  {
   "cell_type": "code",
   "execution_count": null,
   "id": "failing-kelly",
   "metadata": {},
   "outputs": [],
   "source": [
    "def calc_smth(arg1, arg2, *args, **kwargs):\n",
    "    pass"
   ]
  },
  {
   "cell_type": "markdown",
   "id": "expected-turner",
   "metadata": {},
   "source": [
    "# Функции\n",
    "### Определение:\n",
    "\n",
    "- Являются объектами (понятие function is a first-class citizen).\n",
    "- Задаются с помощью ключевого слова def.\n",
    "\n",
    "## Возвращаемое значение:\n",
    "\n",
    "- Тип возвращаемого значения не задаётся.\n",
    "- Возвращаемое значение с помощью return.\n",
    "- Если нет return, то вернёт None.\n",
    "\n",
    "\n",
    "## Аргументы:\n",
    "\n",
    "-Аргументы передаются по ссылке.\n",
    "- Типы аргументов не задаются.\n",
    "- Обязательные и опциональные аргументы - в месте определения, задано ли значение по-умолчанию.\n",
    "- Позиционные и именованные аргументы - в месте вызова, в зависимости от способа передачи при вызове.\n",
    "- Позиционные задаются и распределяются по порядку.\n",
    "- Именованные аргументы задаются при вызове с явным указанием имени переменной.\n",
    "- Значение аргумента по-умолчанию создаётся только один раз - потенциальные проблемы (сохранённое состояние, общий контейнер).\n",
    "- В определении параметров функции идут сначала обязательные, потом опциональные аргументы.\n",
    "- При вызове в передаче параметров функции аргументы следует задавать сначала позиционно, потом по имени.\n",
    "- Собирающие аргументы *args и **kwargs.\n",
    "- *args - все неперечисленные явно, но переданные позиционные аргументы будут помещены в аргумент-кортеж с указанным именем.\n",
    "- **kwargs - все неперечисленные явно, но переданные именованные аргументы будут помещены в аргумент-словарь с указанным именем.\n",
    "- Порядок определения: обязательные, опциональные, *args, **kwargs.\n",
    "- Порядок передачи при вызове: позиционные, именованные. А далее они распределяются по описанным в определении, в т.ч. по *args и **kwargs.\n",
    "\n",
    "\n",
    "## Замечание про описание и передачу аргументов:\n",
    "\n",
    "- Строго говоря, между обязательными и позиционными, а также между опциональными и именованными нет требования взаимно-однозначного соответствия: опциональные могут передаваться с помощью позиционных, обязательные - по имени.\n",
    "\n",
    "## Локальные переменные:\n",
    "\n",
    "- Определённые и используемые внутри каждой функции переменные считаются локальными и хранятся в отдельной таблице локальных символов.\n",
    "- При обращении к переменной она сначала ищется в локальной области, а потом в глобальной.\n",
    "- Чтобы писать в глобальные переменные из кода внутри функции надо сначала их явно пересчислить в выражении с ключевым словом global.\n",
    "\n",
    "\n",
    "## Документация:\n",
    "\n",
    "- Документация с помощью docstring - https://www.python.org/dev/peps/pep-0257/\n",
    "- Первым выражением может идти строковый литерал - docstring (documentation string).\n",
    "- Можно получить из объекта функции из поля __doc__.\n",
    "- Редакторы умеют показывать."
   ]
  },
  {
   "cell_type": "code",
   "execution_count": null,
   "id": "atmospheric-unemployment",
   "metadata": {},
   "outputs": [],
   "source": [
    "# simple function\n",
    "def print_hello():\n",
    "    print(\"hello\")\n",
    "\n",
    "def return_hello():\n",
    "    return \"hello\"\n",
    "\n",
    "# recursive function\n",
    "def dummy_factorial(value):\n",
    "    if value == 0:\n",
    "        return 1\n",
    "    else:\n",
    "        return value * dummy_factorial(value - 1)\n",
    "\n",
    "print_hello()\n",
    "print(return_hello())\n",
    "print(dummy_factorial(3))"
   ]
  },
  {
   "cell_type": "code",
   "execution_count": null,
   "id": "brief-interstate",
   "metadata": {},
   "outputs": [],
   "source": [
    "# keyword argument\n",
    "def greet(name=None):\n",
    "    if name is None:\n",
    "        name = \"stranger\"\n",
    "\n",
    "    print(\"Greetings, {name}\".format(name=name))\n",
    "\n",
    "greet()\n",
    "greet(name=\"user\") "
   ]
  },
  {
   "cell_type": "code",
   "execution_count": 52,
   "id": "supreme-coupon",
   "metadata": {},
   "outputs": [
    {
     "name": "stdout",
     "output_type": "stream",
     "text": [
      "<class 'tuple'>\n",
      "one two ('three', 'four')\n",
      "<class 'dict'>\n",
      "{'first_named': 'named_one', 'second_named': 'named_two', 'third_named': 'named_three'}\n"
     ]
    }
   ],
   "source": [
    "def show_params(first_param, second_param, *args, **kwargs):\n",
    "    print(type(args))\n",
    "    print(first_param, second_param, args)\n",
    "    print(type(kwargs))\n",
    "    print(kwargs)\n",
    "\n",
    "show_params(\"one\", \"two\", \"three\", \"four\", first_named=\"named_one\", second_named=\"named_two\", third_named=\"named_three\")"
   ]
  },
  {
   "cell_type": "code",
   "execution_count": 53,
   "id": "threaded-jesus",
   "metadata": {},
   "outputs": [
    {
     "name": "stdout",
     "output_type": "stream",
     "text": [
      "3 1 2\n"
     ]
    }
   ],
   "source": [
    "# unpacking arguments (no always a good style, but sometimes useful)\n",
    "def show_params(first_param, second_param, third_param):\n",
    "    print(first_param, second_param, third_param)\n",
    "\n",
    "elems = (3, 1, 2)\n",
    "show_params(*elems)"
   ]
  },
  {
   "cell_type": "code",
   "execution_count": null,
   "id": "streaming-hospital",
   "metadata": {},
   "outputs": [],
   "source": [
    "# unpacking kwargs\n",
    "def show_named_params(first_param=\"one\", second_param=\"two\", third_param=\"three\"):\n",
    "    print(first_param, second_param, third_param)\n",
    "\n",
    "d = {'first_param': 1, 'second_param': 2, 'third_param': 3}\n",
    "show_named_params(**d)"
   ]
  },
  {
   "cell_type": "code",
   "execution_count": null,
   "id": "coordinate-river",
   "metadata": {},
   "outputs": [],
   "source": []
  },
  {
   "cell_type": "code",
   "execution_count": 54,
   "id": "precious-arkansas",
   "metadata": {},
   "outputs": [],
   "source": [
    "def calc_smth(a: int, function_operation) -> None:\n",
    "    print(function_operation(a))"
   ]
  },
  {
   "cell_type": "code",
   "execution_count": 55,
   "id": "pressed-heater",
   "metadata": {},
   "outputs": [],
   "source": [
    "def func_square(a: int) -> int:\n",
    "    return a * a"
   ]
  },
  {
   "cell_type": "code",
   "execution_count": 56,
   "id": "pressed-watts",
   "metadata": {},
   "outputs": [
    {
     "name": "stdout",
     "output_type": "stream",
     "text": [
      "144\n"
     ]
    }
   ],
   "source": [
    "calc_smth(12, func_square)"
   ]
  },
  {
   "cell_type": "code",
   "execution_count": null,
   "id": "dried-collection",
   "metadata": {},
   "outputs": [],
   "source": []
  },
  {
   "cell_type": "code",
   "execution_count": 65,
   "id": "forced-investing",
   "metadata": {},
   "outputs": [
    {
     "name": "stdout",
     "output_type": "stream",
     "text": [
      "[0, 1, 2, 3, 4, 5, 6, 7, 8, 9]\n",
      "[0, 2, 4, 6, 8]\n"
     ]
    }
   ],
   "source": [
    "print(\n",
    "    [elem for elem in range(10)]\n",
    ")\n",
    "print([elem for elem in range(10) if elem % 2 == 0])"
   ]
  },
  {
   "cell_type": "code",
   "execution_count": 67,
   "id": "italian-flood",
   "metadata": {},
   "outputs": [
    {
     "name": "stdout",
     "output_type": "stream",
     "text": [
      "0-Start.ipynb\n"
     ]
    }
   ],
   "source": [
    "!ls"
   ]
  },
  {
   "cell_type": "code",
   "execution_count": null,
   "id": "nearby-venice",
   "metadata": {},
   "outputs": [],
   "source": []
  },
  {
   "cell_type": "code",
   "execution_count": null,
   "id": "certain-banking",
   "metadata": {},
   "outputs": [],
   "source": [
    "# словари тоже умеют в comprehensions"
   ]
  },
  {
   "cell_type": "code",
   "execution_count": 66,
   "id": "another-avenue",
   "metadata": {},
   "outputs": [
    {
     "name": "stdout",
     "output_type": "stream",
     "text": [
      "{0: 0, 1: 1, 2: 4, 3: 9, 4: 16, 5: 25, 6: 36, 7: 49, 8: 64, 9: 81}\n"
     ]
    }
   ],
   "source": [
    "d = {\n",
    "    k: k ** 2\n",
    "    for k in range(10)\n",
    "}\n",
    "print(d)"
   ]
  },
  {
   "cell_type": "markdown",
   "id": "contrary-honor",
   "metadata": {},
   "source": [
    "# Лябмда-функции\n",
    "- Функции без имени - анонимные функции.\n",
    "- В Python ограничены одним выражением и предназначены для использования в простых сценариях.\n",
    "- Общее правило: если нужно что-то сложнее простого понятного выражения в лямбда-функции - сделать обычную именованную функцию.\n",
    "- Возвращаемое значение - результат единственного выражения в теле.\n",
    "- Ключевое слово return не нужно."
   ]
  },
  {
   "cell_type": "code",
   "execution_count": 57,
   "id": "portable-immigration",
   "metadata": {},
   "outputs": [
    {
     "name": "stdout",
     "output_type": "stream",
     "text": [
      "4\n"
     ]
    }
   ],
   "source": [
    "k = lambda x: x + x\n",
    "print(k(2))"
   ]
  },
  {
   "cell_type": "code",
   "execution_count": null,
   "id": "unnecessary-spank",
   "metadata": {},
   "outputs": [],
   "source": [
    "# напишем функцию, которая принимает число и лябду\n",
    "# затем проводим необходимую операцию и возвращает число"
   ]
  },
  {
   "cell_type": "code",
   "execution_count": null,
   "id": "acceptable-madison",
   "metadata": {},
   "outputs": [],
   "source": []
  },
  {
   "cell_type": "code",
   "execution_count": null,
   "id": "intensive-theology",
   "metadata": {},
   "outputs": [],
   "source": []
  },
  {
   "cell_type": "code",
   "execution_count": null,
   "id": "alleged-mozambique",
   "metadata": {},
   "outputs": [],
   "source": [
    "# лямбды удобны в сортировке"
   ]
  },
  {
   "cell_type": "code",
   "execution_count": 61,
   "id": "peripheral-cuisine",
   "metadata": {},
   "outputs": [],
   "source": [
    "d = {\n",
    "    3: 'солнышке',\n",
    "    2: 'на',\n",
    "    1: 'я',\n",
    "    4: 'лежу'\n",
    "}\n",
    "\n",
    "# sorted()"
   ]
  },
  {
   "cell_type": "code",
   "execution_count": 58,
   "id": "accompanied-accounting",
   "metadata": {},
   "outputs": [
    {
     "name": "stdout",
     "output_type": "stream",
     "text": [
      "Help on built-in function sorted in module builtins:\n",
      "\n",
      "sorted(iterable, /, *, key=None, reverse=False)\n",
      "    Return a new list containing all items from the iterable in ascending order.\n",
      "    \n",
      "    A custom key function can be supplied to customize the sort order, and the\n",
      "    reverse flag can be set to request the result in descending order.\n",
      "\n"
     ]
    }
   ],
   "source": [
    "help(sorted)"
   ]
  },
  {
   "cell_type": "code",
   "execution_count": null,
   "id": "worse-martin",
   "metadata": {},
   "outputs": [],
   "source": [
    "d.items()"
   ]
  },
  {
   "cell_type": "code",
   "execution_count": 1,
   "id": "mighty-friend",
   "metadata": {},
   "outputs": [],
   "source": [
    "# посортировать по ключу"
   ]
  },
  {
   "cell_type": "code",
   "execution_count": 63,
   "id": "empirical-shareware",
   "metadata": {},
   "outputs": [
    {
     "data": {
      "text/plain": [
       "[(1, 'я'), (2, 'на'), (3, 'солнышке'), (4, 'лежу')]"
      ]
     },
     "execution_count": 63,
     "metadata": {},
     "output_type": "execute_result"
    }
   ],
   "source": [
    "sorted(d.items(),\n",
    "      key=lambda k: k[0])"
   ]
  },
  {
   "cell_type": "code",
   "execution_count": 64,
   "id": "circular-edgar",
   "metadata": {},
   "outputs": [
    {
     "data": {
      "text/plain": [
       "[(1, 'я'), (2, 'на'), (4, 'лежу'), (3, 'солнышке')]"
      ]
     },
     "execution_count": 64,
     "metadata": {},
     "output_type": "execute_result"
    }
   ],
   "source": [
    "sorted(d.items(),\n",
    "      key=lambda k: len(k[1]))"
   ]
  },
  {
   "cell_type": "code",
   "execution_count": null,
   "id": "greater-rental",
   "metadata": {},
   "outputs": [],
   "source": []
  },
  {
   "cell_type": "code",
   "execution_count": 2,
   "id": "handy-worth",
   "metadata": {},
   "outputs": [],
   "source": [
    "# сортировка по длине value"
   ]
  },
  {
   "cell_type": "code",
   "execution_count": null,
   "id": "female-regression",
   "metadata": {},
   "outputs": [],
   "source": []
  },
  {
   "cell_type": "code",
   "execution_count": null,
   "id": "powered-nursing",
   "metadata": {},
   "outputs": [],
   "source": []
  },
  {
   "cell_type": "code",
   "execution_count": null,
   "id": "asian-import",
   "metadata": {},
   "outputs": [],
   "source": []
  },
  {
   "cell_type": "code",
   "execution_count": null,
   "id": "possible-chart",
   "metadata": {},
   "outputs": [],
   "source": [
    "sorted(d.items(),\n",
    "      key = lambda pair: pair[0])"
   ]
  },
  {
   "cell_type": "code",
   "execution_count": null,
   "id": "amateur-marks",
   "metadata": {},
   "outputs": [],
   "source": [
    "sorted(d.items(),\n",
    "      key = lambda pair: len(pair[1]))"
   ]
  },
  {
   "cell_type": "code",
   "execution_count": null,
   "id": "emotional-remark",
   "metadata": {},
   "outputs": [],
   "source": []
  },
  {
   "cell_type": "code",
   "execution_count": null,
   "id": "antique-senegal",
   "metadata": {},
   "outputs": [],
   "source": []
  }
 ],
 "metadata": {
  "kernelspec": {
   "display_name": "Python 3",
   "language": "python",
   "name": "python3"
  },
  "language_info": {
   "codemirror_mode": {
    "name": "ipython",
    "version": 3
   },
   "file_extension": ".py",
   "mimetype": "text/x-python",
   "name": "python",
   "nbconvert_exporter": "python",
   "pygments_lexer": "ipython3",
   "version": "3.9.1"
  }
 },
 "nbformat": 4,
 "nbformat_minor": 5
}
